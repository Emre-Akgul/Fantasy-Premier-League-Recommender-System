{
 "cells": [
  {
   "cell_type": "code",
   "execution_count": 14,
   "metadata": {},
   "outputs": [],
   "source": [
    "import pandas as pd\n",
    "from sklearn.model_selection import train_test_split\n",
    "from sklearn.linear_model import LinearRegression\n",
    "from sklearn.metrics import mean_absolute_error, mean_squared_error\n",
    "from sklearn.metrics import mean_absolute_error, mean_squared_error\n",
    "from sklearn.preprocessing import OneHotEncoder\n",
    "from sklearn.compose import ColumnTransformer\n",
    "\n",
    "import numpy as np"
   ]
  },
  {
   "cell_type": "code",
   "execution_count": 6,
   "metadata": {},
   "outputs": [],
   "source": [
    "# Load the datasets\n",
    "gw1 = pd.read_csv('../Data/2023-24/gws/gw1.csv')\n",
    "gw2 = pd.read_csv('../Data/2023-24/gws/gw2.csv')\n",
    "gw3 = pd.read_csv('../Data/2023-24/gws/gw3.csv')\n",
    "gw4 = pd.read_csv('../Data/2023-24/gws/gw4.csv')\n",
    "gw5 = pd.read_csv('../Data/2023-24/gws/gw5.csv')\n",
    "gw6 = pd.read_csv('../Data/2023-24/gws/gw6.csv')\n",
    "gw7 = pd.read_csv('../Data/2023-24/gws/gw7.csv')\n",
    "gw8 = pd.read_csv('../Data/2023-24/gws/gw8.csv')\n",
    "gw9 = pd.read_csv('../Data/2023-24/gws/gw9.csv')\n",
    "gw10 = pd.read_csv('../Data/2023-24/gws/gw10.csv')\n",
    "gw11 = pd.read_csv('../Data/2023-24/gws/gw11.csv')\n",
    "gw12 = pd.read_csv('../Data/2023-24/gws/gw12.csv')\n",
    "gw13 = pd.read_csv('../Data/2023-24/gws/gw13.csv')\n",
    "gw14 = pd.read_csv('../Data/2023-24/gws/gw14.csv')\n",
    "gw15 = pd.read_csv('../Data/2023-24/gws/gw15.csv')\n",
    "gw16 = pd.read_csv('../Data/2023-24/gws/gw16.csv')\n",
    "gw17 = pd.read_csv('../Data/2023-24/gws/gw17.csv')\n"
   ]
  },
  {
   "cell_type": "code",
   "execution_count": 7,
   "metadata": {},
   "outputs": [],
   "source": [
    "gw_data_frames = {\n",
    "    1: gw1,\n",
    "    2: gw2,\n",
    "    3: gw3,\n",
    "    4: gw4,\n",
    "    5: gw5,\n",
    "    6: gw6,\n",
    "    7: gw7,\n",
    "    8: gw8,\n",
    "    9: gw9,\n",
    "    10: gw10,\n",
    "    11: gw11,\n",
    "    12: gw12,\n",
    "    13: gw13,\n",
    "    14: gw14,\n",
    "    15: gw15,\n",
    "    16: gw16,\n",
    "    17: gw17\n",
    "}"
   ]
  },
  {
   "cell_type": "code",
   "execution_count": 8,
   "metadata": {},
   "outputs": [
    {
     "data": {
      "text/plain": [
       "((12243, 41),\n",
       "                      name position           team   xP  assists  bonus  bps  \\\n",
       " 0             Femi Seriki      DEF  Sheffield Utd  0.5        0      0    0   \n",
       " 1        Jack Hinshelwood      MID       Brighton  1.5        0      0    0   \n",
       " 2            Jadon Sancho      MID        Man Utd  3.0        0      0    4   \n",
       " 3  Rhys Norrington-Davies      DEF  Sheffield Utd  0.1        0      0    0   \n",
       " 4           Vitaly Janelt      MID      Brentford  2.1        0      0    6   \n",
       " \n",
       "    clean_sheets  creativity  element  ...  team_h_score  threat  total_points  \\\n",
       " 0             0         0.0      653  ...             0     0.0             0   \n",
       " 1             0         0.0      621  ...             4     0.0             0   \n",
       " 2             0        11.3      397  ...             1     8.0             1   \n",
       " 3             0         0.0      487  ...             0     0.0             0   \n",
       " 4             0        11.5      105  ...             2    17.0             2   \n",
       " \n",
       "    transfers_balance  transfers_in  transfers_out  value  was_home  \\\n",
       " 0                  0             0              0     40      True   \n",
       " 1                  0             0              0     45      True   \n",
       " 2                  0             0              0     70      True   \n",
       " 3                  0             0              0     40      True   \n",
       " 4                  0             0              0     55      True   \n",
       " \n",
       "    yellow_cards gw  \n",
       " 0             0  1  \n",
       " 1             0  1  \n",
       " 2             0  1  \n",
       " 3             0  1  \n",
       " 4             0  1  \n",
       " \n",
       " [5 rows x 41 columns])"
      ]
     },
     "execution_count": 8,
     "metadata": {},
     "output_type": "execute_result"
    }
   ],
   "source": [
    "# Add a 'gw' column to each DataFrame to indicate the game week, then concatenate them into one DataFrame\n",
    "for gw, df in gw_data_frames.items():\n",
    "    df['gw'] = gw\n",
    "\n",
    "# Combine all the DataFrames\n",
    "combined_df = pd.concat(gw_data_frames.values(), ignore_index=True)\n",
    "\n",
    "# Display the shape and the first few rows of the combined DataFrame to confirm success\n",
    "combined_df.shape, combined_df.head()"
   ]
  },
  {
   "cell_type": "code",
   "execution_count": 10,
   "metadata": {},
   "outputs": [],
   "source": [
    "# Example for data cleaning\n",
    "combined_df.dropna(inplace=True)  # Simple missing value handling\n",
    "\n",
    "# Example for feature engineering: Calculate a simple form metric\n",
    "combined_df['form'] = combined_df.groupby('name')['total_points'].transform(lambda x: x.rolling(window=3, min_periods=1).mean())\n"
   ]
  },
  {
   "cell_type": "code",
   "execution_count": 19,
   "metadata": {},
   "outputs": [],
   "source": [
    "# Isolating points for week 17\n",
    "week17_points = combined_df[combined_df['gw'] == 17][['name', 'total_points']].copy()\n",
    "\n",
    "# Renaming for clarity\n",
    "week17_points.rename(columns={'total_points': 'future_points'}, inplace=True)"
   ]
  },
  {
   "cell_type": "code",
   "execution_count": 21,
   "metadata": {},
   "outputs": [],
   "source": [
    "combined_df = combined_df.merge(week17_points, on='name', how='left')"
   ]
  },
  {
   "cell_type": "code",
   "execution_count": 24,
   "metadata": {},
   "outputs": [],
   "source": [
    "# Assuming `combined_df` is your DataFrame and it's already prepared with necessary features and target variable\n",
    "\n",
    "# Feature selection (replace with actual feature names)\n",
    "features = ['form', 'position', 'team', 'goals_conceded', 'goals_scored','assists','minutes','saves', 'clean_sheets', 'yellow_cards', 'red_cards']\n",
    "\n",
    "# Encode categorical features\n",
    "categorical_features = ['position', 'team']\n",
    "numerical_features = ['form', 'goals_conceded', 'goals_scored', 'assists', 'minutes', 'saves', 'clean_sheets', 'yellow_cards', 'red_cards']\n",
    "\n",
    "# One-hot encode categorical features\n",
    "preprocessor = ColumnTransformer(\n",
    "    transformers=[\n",
    "        ('num', 'passthrough', numerical_features),\n",
    "        ('cat', OneHotEncoder(), categorical_features)\n",
    "    ])"
   ]
  },
  {
   "cell_type": "code",
   "execution_count": 33,
   "metadata": {},
   "outputs": [],
   "source": []
  },
  {
   "cell_type": "code",
   "execution_count": null,
   "metadata": {},
   "outputs": [],
   "source": []
  },
  {
   "cell_type": "code",
   "execution_count": null,
   "metadata": {},
   "outputs": [],
   "source": []
  },
  {
   "cell_type": "code",
   "execution_count": null,
   "metadata": {},
   "outputs": [],
   "source": []
  },
  {
   "cell_type": "code",
   "execution_count": null,
   "metadata": {},
   "outputs": [],
   "source": []
  }
 ],
 "metadata": {
  "kernelspec": {
   "display_name": "Python 3",
   "language": "python",
   "name": "python3"
  },
  "language_info": {
   "codemirror_mode": {
    "name": "ipython",
    "version": 3
   },
   "file_extension": ".py",
   "mimetype": "text/x-python",
   "name": "python",
   "nbconvert_exporter": "python",
   "pygments_lexer": "ipython3",
   "version": "3.11.1"
  }
 },
 "nbformat": 4,
 "nbformat_minor": 2
}
