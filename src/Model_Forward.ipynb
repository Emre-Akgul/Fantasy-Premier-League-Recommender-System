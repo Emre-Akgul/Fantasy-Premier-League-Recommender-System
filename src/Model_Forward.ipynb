{
 "cells": [
  {
   "cell_type": "code",
   "execution_count": 1,
   "metadata": {},
   "outputs": [],
   "source": [
    "import numpy as np\n",
    "import pandas as pd\n",
    "import matplotlib.pyplot as plt\n",
    "\n",
    "from sklearn.ensemble import RandomForestRegressor\n",
    "from sklearn.model_selection import train_test_split\n",
    "from sklearn.metrics import mean_squared_error"
   ]
  },
  {
   "cell_type": "markdown",
   "metadata": {},
   "source": [
    "## Data Preparation"
   ]
  },
  {
   "cell_type": "code",
   "execution_count": 2,
   "metadata": {},
   "outputs": [],
   "source": [
    "base_path = '../Data/2023-24/gws/gw{}.csv'  # Base path template\n",
    "\n",
    "num_gameweeks = 24 # Adjust based on available data\n",
    "\n",
    "gw_data_frames = {gw: pd.read_csv(base_path.format(gw)) for gw in range(1, num_gameweeks + 1)}"
   ]
  },
  {
   "cell_type": "code",
   "execution_count": 3,
   "metadata": {},
   "outputs": [],
   "source": [
    "# Add a 'gw' column to each DataFrame to indicate the game week, then concatenate them into one DataFrame\n",
    "for gw, df in gw_data_frames.items():\n",
    "    df['gw'] = gw\n",
    "\n",
    "combined_df = pd.concat(gw_data_frames.values(), ignore_index=True)"
   ]
  },
  {
   "cell_type": "markdown",
   "metadata": {},
   "source": [
    "## Feature Selection"
   ]
  },
  {
   "cell_type": "code",
   "execution_count": 6,
   "metadata": {},
   "outputs": [],
   "source": [
    "def create_forward_features(gw_data_frames, up_to_gw):\n",
    "    \"\"\"\n",
    "    Create forward features DataFrame up to a specified gameweek.\n",
    "\n",
    "    Parameters:\n",
    "    - gw_data_frames: Dictionary of DataFrames for each gameweek.\n",
    "    - up_to_gw: Integer, the last gameweek to include in the feature calculation.\n",
    "\n",
    "    Returns:\n",
    "    - DataFrame with forward features calculated up to the specified gameweek.\n",
    "    \"\"\"\n",
    "    # Combine DataFrames up to the specified gameweek\n",
    "    combined_df = pd.concat([df for gw, df in gw_data_frames.items() if gw <= up_to_gw], ignore_index=True)\n",
    "\n",
    "    # Filter for forwards\n",
    "    df_forward = combined_df.loc[combined_df['position'] == 'FWD']\n",
    "\n",
    "    # Group by player name\n",
    "    forward_grouped = df_forward.groupby('name')\n",
    "\n",
    "    # Initialize the features DataFrame\n",
    "    forward_features = pd.DataFrame(index=forward_grouped.indices.keys())\n",
    "\n",
    "    # Calculate features relevant to forwards\n",
    "    forward_features['minutes'] = forward_grouped['minutes'].mean()\n",
    "    forward_features['goals_scored'] = forward_grouped['goals_scored'].sum()  # Key feature, as forwards earn points mostly through goals\n",
    "    forward_features['assists'] = forward_grouped['assists'].sum()  # Assists are also a significant point source\n",
    "    forward_features['bonus'] = forward_grouped['bonus'].mean()  # Forwards often earn bonus points through goal contributions\n",
    "    forward_features['yellow_cards'] = forward_grouped['yellow_cards'].sum()  # Points deduction for yellow cards\n",
    "    forward_features['red_cards'] = forward_grouped['red_cards'].sum()  # Points deduction for red cards\n",
    "    forward_features['own_goals'] = forward_grouped['own_goals'].sum()  # Points deduction for own goals\n",
    "\n",
    "    # Calculate recent form (total points in the last 5 games)\n",
    "    recent_form = []\n",
    "    for name, group in forward_grouped:\n",
    "        group = group.sort_values(by='gw', ascending=False)\n",
    "        recent_form.append(group['total_points'].head(5).sum())\n",
    "    forward_features['recent_form'] = recent_form\n",
    "\n",
    "    return forward_features"
   ]
  },
  {
   "cell_type": "markdown",
   "metadata": {},
   "source": [
    "## Random Forest Model MSE Evaluation"
   ]
  },
  {
   "cell_type": "code",
   "execution_count": 8,
   "metadata": {},
   "outputs": [],
   "source": [
    "def train_and_evaluate_rf(gw_data_frames, target_gw):\n",
    "    \"\"\"\n",
    "    Train a Random Forest model with data up to a specified gameweek and evaluate it using the target gameweek.\n",
    "    Automatically excludes defenders not present in the feature set.\n",
    "\n",
    "    Parameters:\n",
    "    - gw_data_frames: Dictionary of DataFrames for each gameweek.\n",
    "    - target_gw: Integer, the gameweek to predict and evaluate the model.\n",
    "\n",
    "    Returns:\n",
    "    - mse: Mean Squared Error of the model predictions for the target gameweek.\n",
    "    \"\"\"\n",
    "    \n",
    "    forward_features = create_forward_features(gw_data_frames, target_gw - 1)\n",
    "    \n",
    "    # Load target gameweek data\n",
    "    gw_target_data = gw_data_frames[target_gw]\n",
    "    gw_target_defender = gw_target_data.loc[gw_target_data['position'] == 'FWD']\n",
    "    \n",
    "    # Prepare target variable\n",
    "    y = gw_target_defender[['name', 'total_points']].set_index('name').sort_index()\n",
    "\n",
    "    # Ensure we only consider defenders present in both the features and target sets\n",
    "    common_indices = forward_features.index.intersection(y.index)\n",
    "    x_filtered = forward_features.loc[common_indices]\n",
    "    y_filtered = y.loc[common_indices]\n",
    "\n",
    "    # Check if sufficient data is available for split\n",
    "    if len(x_filtered) < 5 or len(y_filtered) < 5:\n",
    "        print(f\"Insufficient data for gameweek {target_gw}. Skipping.\")\n",
    "        return None\n",
    "\n",
    "    try:\n",
    "        X_train, X_test, y_train, y_test = train_test_split(x_filtered, y_filtered, test_size=0.2, shuffle=False)\n",
    "    except ValueError as e:\n",
    "        print(f\"Error splitting data for gameweek {target_gw}: {e}\")\n",
    "        return None\n",
    "\n",
    "    # Train the Random Forest model\n",
    "    rf_model = RandomForestRegressor(n_estimators=100, random_state=42)\n",
    "    rf_model.fit(X_train, y_train.values.ravel())  # .values.ravel() to convert y_train to 1D array if needed\n",
    "\n",
    "    # Predict and evaluate\n",
    "    y_pred = rf_model.predict(X_test)\n",
    "    mse = mean_squared_error(y_test, y_pred)\n",
    "    \n",
    "    return mse"
   ]
  },
  {
   "cell_type": "code",
   "execution_count": 9,
   "metadata": {},
   "outputs": [
    {
     "name": "stdout",
     "output_type": "stream",
     "text": [
      "Gameweek 2 - MSE: 7.70\n",
      "Gameweek 3 - MSE: 4.67\n",
      "Gameweek 4 - MSE: 14.26\n",
      "Gameweek 5 - MSE: 5.26\n",
      "Gameweek 6 - MSE: 1.53\n",
      "Error splitting data for gameweek 7: Found input variables with inconsistent numbers of samples: [92, 106]\n",
      "Gameweek 8 - MSE: 1.55\n",
      "Gameweek 9 - MSE: 5.20\n",
      "Gameweek 10 - MSE: 3.01\n",
      "Gameweek 11 - MSE: 0.70\n",
      "Gameweek 12 - MSE: 7.73\n",
      "Gameweek 13 - MSE: 5.42\n",
      "Gameweek 14 - MSE: 8.77\n",
      "Gameweek 15 - MSE: 6.95\n",
      "Gameweek 16 - MSE: 4.04\n",
      "Gameweek 17 - MSE: 0.95\n",
      "Gameweek 18 - MSE: 3.77\n",
      "Gameweek 19 - MSE: 7.50\n",
      "Gameweek 20 - MSE: 3.69\n",
      "Gameweek 21 - MSE: 8.31\n",
      "Gameweek 22 - MSE: 4.61\n",
      "Gameweek 23 - MSE: 12.21\n",
      "Gameweek 24 - MSE: 7.83\n"
     ]
    }
   ],
   "source": [
    "for gw in range(2, num_gameweeks + 1):\n",
    "    mse = train_and_evaluate_rf(gw_data_frames, gw)\n",
    "    if mse is not None:\n",
    "        print(f\"Gameweek {gw} - MSE: {mse:.2f}\")"
   ]
  },
  {
   "cell_type": "markdown",
   "metadata": {},
   "source": [
    "## Results and Visualization"
   ]
  },
  {
   "cell_type": "code",
   "execution_count": 11,
   "metadata": {},
   "outputs": [],
   "source": [
    "target_gw = 24\n",
    "forward_features = create_forward_features(gw_data_frames, target_gw - 1)\n",
    "\n",
    "# Load target gameweek data\n",
    "gw_target_data = gw_data_frames[target_gw]\n",
    "gw_target_forward = gw_target_data.loc[gw_target_data['position'] == 'FWD']\n",
    "\n",
    "# Prepare target variable\n",
    "y = gw_target_forward[['name', 'total_points']].set_index('name').sort_index()\n",
    "\n",
    "# Ensure we only consider defenders present in both the features and target sets\n",
    "common_indices = forward_features.index.intersection(y.index)\n",
    "x_filtered = forward_features.loc[common_indices]\n",
    "y_filtered = y.loc[common_indices]\n",
    "\n",
    "\n",
    "try:\n",
    "    X_train, X_test, y_train, y_test = train_test_split(x_filtered, y_filtered, test_size=0.2, shuffle=False)\n",
    "except ValueError as e:\n",
    "    print(f\"Error splitting data for gameweek {target_gw}: {e}\")\n",
    "\n",
    "# Train the Random Forest model\n",
    "rf_model = RandomForestRegressor(n_estimators=100, random_state=42)\n",
    "rf_model.fit(X_train, y_train.values.ravel())  # .values.ravel() to convert y_train to 1D array if needed\n",
    "\n",
    "# Predict and evaluate\n",
    "y_pred = rf_model.predict(X_test)\n",
    "mse = mean_squared_error(y_test, y_pred)\n",
    "\n"
   ]
  },
  {
   "cell_type": "code",
   "execution_count": 12,
   "metadata": {},
   "outputs": [],
   "source": [
    "# Convert predictions to a pandas Series for easy handling, align with y_test index\n",
    "predictions_series = pd.Series(y_pred, index=y_test.index, name='Predicted Points')\n",
    "\n",
    "# Create a DataFrame combining actual and predicted values\n",
    "results_df = pd.DataFrame(y_test)\n",
    "results_df['Predicted Points'] = predictions_series"
   ]
  },
  {
   "cell_type": "code",
   "execution_count": 13,
   "metadata": {},
   "outputs": [
    {
     "name": "stdout",
     "output_type": "stream",
     "text": [
      "                          total_points  Predicted Points\n",
      "Aaron Connolly                       0           0.03382\n",
      "Ademola Ola-Adebomi                  0           0.03382\n",
      "Admiral Muskwe                       0           0.03382\n",
      "Alejo Véliz                          0           0.13000\n",
      "Aleksandar Mitrović                  0           0.00000\n",
      "...                                ...               ...\n",
      "William Osula                        0           1.15000\n",
      "Wout Weghorst                        0           0.03382\n",
      "Yoane Wissa                          0           3.65000\n",
      "Youssef Ramalho Chermiti             1           0.13000\n",
      "Zeki Amdouni                         2           3.14000\n",
      "\n",
      "[104 rows x 2 columns]\n"
     ]
    }
   ],
   "source": [
    "# Predictions on the training set\n",
    "train_predictions = rf_model.predict(X_train)\n",
    "\n",
    "# Convert training predictions to a pandas Series for easy handling\n",
    "train_predictions_series = pd.Series(train_predictions, index=y_train.index, name='Predicted Points')\n",
    "\n",
    "# Create a DataFrame for the training set combining actual and predicted values\n",
    "train_results_df = pd.DataFrame(y_train)\n",
    "train_results_df['Predicted Points'] = train_predictions_series\n",
    "\n",
    "# For the test set, you've already got predictions_series and results_df as per your previous code\n",
    "\n",
    "# Optionally, you can concatenate the training and test results into a single DataFrame\n",
    "# if you want to analyze them together\n",
    "all_results_df = pd.concat([train_results_df, results_df])\n",
    "\n",
    "# Display the combined DataFrame\n",
    "print(all_results_df)"
   ]
  },
  {
   "cell_type": "code",
   "execution_count": 14,
   "metadata": {},
   "outputs": [
    {
     "data": {
      "image/png": "[encoded data removed]",
      "text/plain": [
       "<Figure size 1000x600 with 1 Axes>"
      ]
     },
     "metadata": {},
     "output_type": "display_data"
    }
   ],
   "source": [
    "plt.figure(figsize=(10, 6))\n",
    "plt.scatter(all_results_df['Predicted Points'], all_results_df['total_points'], alpha=0.5)\n",
    "plt.title('Actual vs. Predicted Points for Gameweek 24')\n",
    "plt.xlabel('Predicted Points')\n",
    "plt.ylabel('Actual Points')\n",
    "plt.plot([all_results_df.min().min(), all_results_df.max().max()], [all_results_df.min().min(), all_results_df.max().max()], 'k--', lw=2)  # Diagonal line\n",
    "plt.show()"
   ]
  }
 ],
 "metadata": {
  "kernelspec": {
   "display_name": "Python 3",
   "language": "python",
   "name": "python3"
  },
  "language_info": {
   "codemirror_mode": {
    "name": "ipython",
    "version": 3
   },
   "file_extension": ".py",
   "mimetype": "text/x-python",
   "name": "python",
   "nbconvert_exporter": "python",
   "pygments_lexer": "ipython3",
   "version": "3.11.1"
  }
 },
 "nbformat": 4,
 "nbformat_minor": 2
}
